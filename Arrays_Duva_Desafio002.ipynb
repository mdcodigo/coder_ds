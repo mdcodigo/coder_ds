{
  "nbformat": 4,
  "nbformat_minor": 0,
  "metadata": {
    "colab": {
      "name": "Arrays_Duva_Desafio002.ipynb",
      "provenance": [],
      "authorship_tag": "ABX9TyOfDc8pPRaDNhNaaFXojXRq",
      "include_colab_link": true
    },
    "kernelspec": {
      "name": "python3",
      "display_name": "Python 3"
    },
    "language_info": {
      "name": "python"
    }
  },
  "cells": [
    {
      "cell_type": "markdown",
      "metadata": {
        "id": "view-in-github",
        "colab_type": "text"
      },
      "source": [
        "<a href=\"https://colab.research.google.com/github/mdcodigo/coder_ds/blob/main/Arrays_Duva_Desafio002.ipynb\" target=\"_parent\"><img src=\"https://colab.research.google.com/assets/colab-badge.svg\" alt=\"Open In Colab\"/></a>"
      ]
    },
    {
      "cell_type": "markdown",
      "metadata": {
        "id": "pzZiR-gIkiwZ"
      },
      "source": [
        "1 - Array de enteros aleatorios\n"
      ]
    },
    {
      "cell_type": "code",
      "metadata": {
        "colab": {
          "base_uri": "https://localhost:8080/"
        },
        "id": "Q67XWNAQkbd-",
        "outputId": "7ec76ab3-366b-48c3-9e06-d252b1b23d6a"
      },
      "source": [
        "import numpy as np\n",
        "\n",
        "arrIntRnd = np.random.randint(0,100,size=100)\n",
        "\n",
        "print(\"Mediana/Mean:\",arrIntRnd.mean())\n"
      ],
      "execution_count": 8,
      "outputs": [
        {
          "output_type": "stream",
          "text": [
            "Mediana/Mean: 50.93\n"
          ],
          "name": "stdout"
        }
      ]
    },
    {
      "cell_type": "markdown",
      "metadata": {
        "id": "nmEe_z7flvm_"
      },
      "source": [
        "2a - Función Factorial"
      ]
    },
    {
      "cell_type": "code",
      "metadata": {
        "colab": {
          "base_uri": "https://localhost:8080/"
        },
        "id": "g6gjioPvlzbG",
        "outputId": "2033aa55-eec4-4902-91d8-313bb0a180be"
      },
      "source": [
        "import numpy as np\n",
        "\n",
        "def factorial_np(n):\n",
        "  if(n < 2):\n",
        "    if(n > -1):\n",
        "      return 1\n",
        "    else:      \n",
        "      raise ArithmeticError(\"'n' tiene que ser un entero positivo.\")\n",
        "\n",
        "  arr_fac = np.arange(1,n+1,dtype=int)\n",
        "\n",
        "  return np.prod(arr_fac)\n",
        "\n",
        "#PRUEBAS\n",
        "\n",
        "print(\"n!(0)\",factorial_np(0))\n",
        "print(\"n!(1)\",factorial_np(1))\n",
        "print(\"n!(2)\",factorial_np(2))\n",
        "print(\"n!(3)\",factorial_np(3))\n",
        "print(\"n!(6)\",factorial_np(6))\n",
        "\n",
        "#print(\"n!(-1)\",factorial_np(-1))\n"
      ],
      "execution_count": 26,
      "outputs": [
        {
          "output_type": "stream",
          "text": [
            "n!(0) 1\n",
            "n!(1) 1\n",
            "n!(2) 2\n",
            "n!(3) 6\n",
            "n!(6) 720\n"
          ],
          "name": "stdout"
        }
      ]
    },
    {
      "cell_type": "markdown",
      "metadata": {
        "id": "0gMpkUN-prI1"
      },
      "source": [
        "2b - Función suma serie"
      ]
    },
    {
      "cell_type": "code",
      "metadata": {
        "colab": {
          "base_uri": "https://localhost:8080/"
        },
        "id": "GqjHfAd_pvFs",
        "outputId": "7fc49847-9589-447b-e69b-d4992902adc1"
      },
      "source": [
        "import numpy as np\n",
        "\n",
        "def suma_serie_np(i,x):\n",
        "  if(i >= x): \n",
        "    raise ArithmeticError(\"'x' tiene que ser un entero mayor a 'i'.\")\n",
        "  \n",
        "  arr_sum = np.arange(i,x+1,dtype=int)\n",
        "\n",
        "\n",
        "  return np.sum(arr_sum)\n",
        "\n",
        "#PRUEBAS\n",
        "\n",
        "print(\"suma de 0 a 5  :\",suma_serie_np(0,5))\n",
        "print(\"suma de -10 a 0:\",suma_serie_np(-10,0))\n",
        "print(\"suma de -3 a 3 :\",suma_serie_np(-3,3))"
      ],
      "execution_count": 35,
      "outputs": [
        {
          "output_type": "stream",
          "text": [
            "suma de 0 a 5  : 15\n",
            "suma de -10 a 0: -55\n",
            "suma de -3 a 3 : 0\n"
          ],
          "name": "stdout"
        }
      ]
    }
  ]
}