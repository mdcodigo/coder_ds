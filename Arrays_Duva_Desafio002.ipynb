{
  "nbformat": 4,
  "nbformat_minor": 0,
  "metadata": {
    "colab": {
      "name": "Arrays_Duva_Desafio002.ipynb",
      "provenance": [],
      "authorship_tag": "ABX9TyNt6hTHcNNStzEMcjT7voLc",
      "include_colab_link": true
    },
    "kernelspec": {
      "name": "python3",
      "display_name": "Python 3"
    },
    "language_info": {
      "name": "python"
    }
  },
  "cells": [
    {
      "cell_type": "markdown",
      "metadata": {
        "id": "view-in-github",
        "colab_type": "text"
      },
      "source": [
        "<a href=\"https://colab.research.google.com/github/mdcodigo/coder_ds/blob/main/Arrays_Duva_Desafio002.ipynb\" target=\"_parent\"><img src=\"https://colab.research.google.com/assets/colab-badge.svg\" alt=\"Open In Colab\"/></a>"
      ]
    },
    {
      "cell_type": "markdown",
      "metadata": {
        "id": "pzZiR-gIkiwZ"
      },
      "source": [
        "1 - Array de enteros aleatorios\n"
      ]
    },
    {
      "cell_type": "code",
      "metadata": {
        "colab": {
          "base_uri": "https://localhost:8080/"
        },
        "id": "Q67XWNAQkbd-",
        "outputId": "7ec76ab3-366b-48c3-9e06-d252b1b23d6a"
      },
      "source": [
        "import numpy as np\n",
        "\n",
        "arrIntRnd = np.random.randint(0,100,size=100)\n",
        "\n",
        "print(\"Mediana/Mean:\",arrIntRnd.mean())\n"
      ],
      "execution_count": 8,
      "outputs": [
        {
          "output_type": "stream",
          "text": [
            "Mediana/Mean: 50.93\n"
          ],
          "name": "stdout"
        }
      ]
    },
    {
      "cell_type": "markdown",
      "metadata": {
        "id": "nmEe_z7flvm_"
      },
      "source": [
        "2a - Función Factorial"
      ]
    },
    {
      "cell_type": "code",
      "metadata": {
        "colab": {
          "base_uri": "https://localhost:8080/"
        },
        "id": "g6gjioPvlzbG",
        "outputId": "ace2d107-8bdc-44fb-e531-12ed377f87f2"
      },
      "source": [
        "import numpy as np\n",
        "\n",
        "def factorial_np(n):\n",
        "  if(n < 2):\n",
        "    if(n > -1):\n",
        "      return 1\n",
        "    else:      \n",
        "      raise ArithmeticError(\"'n' tiene que ser un entero positivo.\")\n",
        "\n",
        "  arr_fac = np.arange(1,n+1,dtype=int)\n",
        "  fac = 1\n",
        "\n",
        "  for i in arr_fac:\n",
        "    fac *= i\n",
        "\n",
        "  return fac\n",
        "\n",
        "#PRUEBAS\n",
        "\n",
        "print(\"n!(0)\",factorial_np(0))\n",
        "print(\"n!(1)\",factorial_np(1))\n",
        "print(\"n!(2)\",factorial_np(2))\n",
        "print(\"n!(3)\",factorial_np(3))\n",
        "print(\"n!(6)\",factorial_np(6))\n",
        "\n",
        "#print(\"n!(-1)\",factorial_np(-1))\n"
      ],
      "execution_count": 24,
      "outputs": [
        {
          "output_type": "stream",
          "text": [
            "n!(0) 1\n",
            "n!(1) 1\n",
            "n!(2) 2\n",
            "n!(3) 6\n",
            "n!(6) 720\n"
          ],
          "name": "stdout"
        }
      ]
    },
    {
      "cell_type": "markdown",
      "metadata": {
        "id": "0gMpkUN-prI1"
      },
      "source": [
        "2b - Función suma serie"
      ]
    },
    {
      "cell_type": "code",
      "metadata": {
        "id": "GqjHfAd_pvFs"
      },
      "source": [
        "import numpy as np\n",
        "\n",
        "def suma_serie_np(n):\n",
        "\n",
        "  arr_fac = np.arange(1,n+1,dtype=int)\n",
        "  fac = 1\n",
        "\n",
        "  for i in arr_fac:\n",
        "    fac *= i\n",
        "\n",
        "  return fac\n",
        "\n",
        "#PRUEBAS\n",
        "\n",
        "print(\"n!(0)\",factorial_np(0))"
      ],
      "execution_count": null,
      "outputs": []
    }
  ]
}