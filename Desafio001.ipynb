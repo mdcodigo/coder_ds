{
  "nbformat": 4,
  "nbformat_minor": 0,
  "metadata": {
    "colab": {
      "name": "Desafio001.ipynb",
      "provenance": [],
      "collapsed_sections": [],
      "authorship_tag": "ABX9TyMfGWItp7OrmpdcJZ0ttXTb",
      "include_colab_link": true
    },
    "kernelspec": {
      "name": "python3",
      "display_name": "Python 3"
    },
    "language_info": {
      "name": "python"
    }
  },
  "cells": [
    {
      "cell_type": "markdown",
      "metadata": {
        "id": "view-in-github",
        "colab_type": "text"
      },
      "source": [
        "<a href=\"https://colab.research.google.com/github/mdcodigo/coder_ds/blob/main/Desafio001.ipynb\" target=\"_parent\"><img src=\"https://colab.research.google.com/assets/colab-badge.svg\" alt=\"Open In Colab\"/></a>"
      ]
    },
    {
      "cell_type": "markdown",
      "metadata": {
        "id": "lBZJ-NcyXT5L"
      },
      "source": [
        "Función factorial"
      ]
    },
    {
      "cell_type": "code",
      "metadata": {
        "id": "BEov0hmeWHKH"
      },
      "source": [
        "def factorial(n):\n",
        "  if n > 1:\n",
        "    return n*factorial(n-1)\n",
        "  elif n >= 0:\n",
        "    return 1\n",
        "  else:\n",
        "    return float(\"NaN\")"
      ],
      "execution_count": 3,
      "outputs": []
    },
    {
      "cell_type": "markdown",
      "metadata": {
        "id": "eJUicU14XaNi"
      },
      "source": [
        "Probamos la función factorial"
      ]
    },
    {
      "cell_type": "code",
      "metadata": {
        "colab": {
          "base_uri": "https://localhost:8080/"
        },
        "id": "2Qc8ng-6XZyl",
        "outputId": "4bfafa34-f1ac-4127-b1a5-2f5a1f60ee02"
      },
      "source": [
        "print(factorial(6))\n",
        "print(factorial(1))\n",
        "print(factorial(0))\n",
        "print(factorial(-3))"
      ],
      "execution_count": 5,
      "outputs": [
        {
          "output_type": "stream",
          "text": [
            "720\n",
            "1\n",
            "1\n",
            "nan\n"
          ],
          "name": "stdout"
        }
      ]
    },
    {
      "cell_type": "markdown",
      "metadata": {
        "id": "ZSFiN2uPXu2K"
      },
      "source": [
        "Función que suma series"
      ]
    },
    {
      "cell_type": "code",
      "metadata": {
        "id": "viCP_jg0XuWf"
      },
      "source": [
        "def sumserie(x,y):\n",
        "  if x < y:\n",
        "    i = x\n",
        "    while i < y:\n",
        "      i += 1\n",
        "      x += i\n",
        "    return x\n",
        "  else:\n",
        "    return float(\"NaN\")"
      ],
      "execution_count": 16,
      "outputs": []
    },
    {
      "cell_type": "markdown",
      "metadata": {
        "id": "Q7mXieATY1ve"
      },
      "source": [
        "Probamos función de suma"
      ]
    },
    {
      "cell_type": "code",
      "metadata": {
        "colab": {
          "base_uri": "https://localhost:8080/"
        },
        "id": "41yguCj_Y43V",
        "outputId": "2f6af3b6-7d8c-40c8-e7dc-9d8426ab1c63"
      },
      "source": [
        "sumserie(3,6)"
      ],
      "execution_count": 17,
      "outputs": [
        {
          "output_type": "execute_result",
          "data": {
            "text/plain": [
              "18"
            ]
          },
          "metadata": {
            "tags": []
          },
          "execution_count": 17
        }
      ]
    }
  ]
}