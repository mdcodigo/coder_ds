{
  "nbformat": 4,
  "nbformat_minor": 0,
  "metadata": {
    "colab": {
      "name": "Desafio001.ipynb",
      "provenance": [],
      "collapsed_sections": [],
      "authorship_tag": "ABX9TyO+RHMhs/mWFz5sDzhE+UOB",
      "include_colab_link": true
    },
    "kernelspec": {
      "name": "python3",
      "display_name": "Python 3"
    },
    "language_info": {
      "name": "python"
    }
  },
  "cells": [
    {
      "cell_type": "markdown",
      "metadata": {
        "id": "view-in-github",
        "colab_type": "text"
      },
      "source": [
        "<a href=\"https://colab.research.google.com/github/mdcodigo/coder_ds/blob/main/Desafio001.ipynb\" target=\"_parent\"><img src=\"https://colab.research.google.com/assets/colab-badge.svg\" alt=\"Open In Colab\"/></a>"
      ]
    },
    {
      "cell_type": "markdown",
      "metadata": {
        "id": "lBZJ-NcyXT5L"
      },
      "source": [
        "Función factorial"
      ]
    },
    {
      "cell_type": "code",
      "metadata": {
        "id": "BEov0hmeWHKH"
      },
      "source": [
        "def factorial(n):\n",
        "  if n > 1:\n",
        "    return n*factorial(n-1)\n",
        "  elif n >= 0:\n",
        "    return 1\n",
        "  else:\n",
        "    return float(\"NaN\")"
      ],
      "execution_count": null,
      "outputs": []
    },
    {
      "cell_type": "markdown",
      "metadata": {
        "id": "eJUicU14XaNi"
      },
      "source": [
        "Probamos la función factorial"
      ]
    },
    {
      "cell_type": "code",
      "metadata": {
        "colab": {
          "base_uri": "https://localhost:8080/"
        },
        "id": "2Qc8ng-6XZyl",
        "outputId": "4bfafa34-f1ac-4127-b1a5-2f5a1f60ee02"
      },
      "source": [
        "print(factorial(6))\n",
        "print(factorial(1))\n",
        "print(factorial(0))\n",
        "print(factorial(-3))"
      ],
      "execution_count": null,
      "outputs": [
        {
          "output_type": "stream",
          "text": [
            "720\n",
            "1\n",
            "1\n",
            "nan\n"
          ],
          "name": "stdout"
        }
      ]
    },
    {
      "cell_type": "markdown",
      "metadata": {
        "id": "ZSFiN2uPXu2K"
      },
      "source": [
        "Función de suma"
      ]
    },
    {
      "cell_type": "code",
      "metadata": {
        "id": "viCP_jg0XuWf"
      },
      "source": [
        "def suma2(x,y):\n",
        "  if x < y:\n",
        "    return x+y\n",
        "  else:\n",
        "    return float(\"NaN\")"
      ],
      "execution_count": 3,
      "outputs": []
    },
    {
      "cell_type": "markdown",
      "metadata": {
        "id": "Q7mXieATY1ve"
      },
      "source": [
        "Probamos función de suma"
      ]
    },
    {
      "cell_type": "code",
      "metadata": {
        "colab": {
          "base_uri": "https://localhost:8080/"
        },
        "id": "41yguCj_Y43V",
        "outputId": "5de05d45-e8d8-4542-da46-d27feb8ee12b"
      },
      "source": [
        "print(suma2(3,6))\n",
        "print(suma2(-1, 0))\n",
        "print(suma2(-3, -1))\n",
        "\n",
        "print(suma2(-1, -3))\n",
        "print(suma2(3, 1))"
      ],
      "execution_count": 6,
      "outputs": [
        {
          "output_type": "stream",
          "text": [
            "9\n",
            "-1\n",
            "-4\n",
            "nan\n",
            "nan\n"
          ],
          "name": "stdout"
        }
      ]
    }
  ]
}