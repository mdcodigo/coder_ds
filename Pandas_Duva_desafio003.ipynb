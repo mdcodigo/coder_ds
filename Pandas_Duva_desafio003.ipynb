{
  "nbformat": 4,
  "nbformat_minor": 0,
  "metadata": {
    "colab": {
      "name": "Pandas_Duva_desafio003.ipynb",
      "provenance": [],
      "collapsed_sections": [],
      "authorship_tag": "ABX9TyOrh15RCqlQe6i9Ecttf3zH",
      "include_colab_link": true
    },
    "kernelspec": {
      "name": "python3",
      "display_name": "Python 3"
    },
    "language_info": {
      "name": "python"
    }
  },
  "cells": [
    {
      "cell_type": "markdown",
      "metadata": {
        "id": "view-in-github",
        "colab_type": "text"
      },
      "source": [
        "<a href=\"https://colab.research.google.com/github/mdcodigo/coder_ds/blob/main/Pandas_Duva_desafio003.ipynb\" target=\"_parent\"><img src=\"https://colab.research.google.com/assets/colab-badge.svg\" alt=\"Open In Colab\"/></a>"
      ]
    },
    {
      "cell_type": "markdown",
      "metadata": {
        "id": "GKHyNCRNWHCP"
      },
      "source": [
        "1 Años olimpicos"
      ]
    },
    {
      "cell_type": "code",
      "metadata": {
        "colab": {
          "base_uri": "https://localhost:8080/"
        },
        "id": "1XUsueQ_VZ51",
        "outputId": "214c4603-7e6e-4660-c168-d2c914bcaca3"
      },
      "source": [
        "import numpy as np\n",
        "import pandas as pd\n",
        "\n",
        "olympics_df = pd.read_csv(\n",
        "    \"https://github.com/mdcodigo/coder_ds/raw/main/data-sources/Summer-Olympic-medals-1976-to-2008.csv\", \n",
        "    encoding='latin1') #Sin este parámetro daba error de parseo\n",
        "\n",
        "olympics_years_series = pd.to_datetime(\n",
        "                          olympics_df[\"Year\"], \n",
        "                          format='%Y')\n",
        "\n",
        "print(type(olympics_years_series))\n",
        "print(olympics_years_series)"
      ],
      "execution_count": 8,
      "outputs": [
        {
          "output_type": "stream",
          "text": [
            "<class 'pandas.core.series.Series'>\n",
            "0       1976-01-01\n",
            "1       1976-01-01\n",
            "2       1976-01-01\n",
            "3       1976-01-01\n",
            "4       1976-01-01\n",
            "           ...    \n",
            "15428   2008-01-01\n",
            "15429   2008-01-01\n",
            "15430   2008-01-01\n",
            "15431   2008-01-01\n",
            "15432   2008-01-01\n",
            "Name: Year, Length: 15433, dtype: datetime64[ns]\n"
          ],
          "name": "stdout"
        }
      ]
    },
    {
      "cell_type": "markdown",
      "metadata": {
        "id": "w5JOQXA2XQFm"
      },
      "source": [
        "2 - Separar nombres y apellidos en dos columnas distintas"
      ]
    },
    {
      "cell_type": "code",
      "metadata": {
        "colab": {
          "base_uri": "https://localhost:8080/",
          "height": 491
        },
        "id": "N4GjlQ5kXb4z",
        "outputId": "feb750b0-4fe3-4b0a-f695-8643e4500612"
      },
      "source": [
        "import numpy as np\n",
        "import pandas as pd\n",
        "\n",
        "olympics_df = pd.read_csv(\n",
        "    \"https://github.com/mdcodigo/coder_ds/raw/main/data-sources/Summer-Olympic-medals-1976-to-2008.csv\",\n",
        "    index_col=\"Year\",\n",
        "    encoding='latin1') #Sin este parámetro daba error de parseo\n",
        "\n",
        "olympics_df[[\"Surname\",\"Name\",\"Middle_Name\"]] = olympics_df.Athlete.str.split(\",\", expand=True)\n",
        "\n",
        "olympics_df.head(8)"
      ],
      "execution_count": 12,
      "outputs": [
        {
          "output_type": "execute_result",
          "data": {
            "text/html": [
              "<div>\n",
              "<style scoped>\n",
              "    .dataframe tbody tr th:only-of-type {\n",
              "        vertical-align: middle;\n",
              "    }\n",
              "\n",
              "    .dataframe tbody tr th {\n",
              "        vertical-align: top;\n",
              "    }\n",
              "\n",
              "    .dataframe thead th {\n",
              "        text-align: right;\n",
              "    }\n",
              "</style>\n",
              "<table border=\"1\" class=\"dataframe\">\n",
              "  <thead>\n",
              "    <tr style=\"text-align: right;\">\n",
              "      <th></th>\n",
              "      <th>City</th>\n",
              "      <th>Sport</th>\n",
              "      <th>Discipline</th>\n",
              "      <th>Event</th>\n",
              "      <th>Athlete</th>\n",
              "      <th>Gender</th>\n",
              "      <th>Country_Code</th>\n",
              "      <th>Country</th>\n",
              "      <th>Event_gender</th>\n",
              "      <th>Medal</th>\n",
              "      <th>Surname</th>\n",
              "      <th>Name</th>\n",
              "      <th>Middle_Name</th>\n",
              "    </tr>\n",
              "    <tr>\n",
              "      <th>Year</th>\n",
              "      <th></th>\n",
              "      <th></th>\n",
              "      <th></th>\n",
              "      <th></th>\n",
              "      <th></th>\n",
              "      <th></th>\n",
              "      <th></th>\n",
              "      <th></th>\n",
              "      <th></th>\n",
              "      <th></th>\n",
              "      <th></th>\n",
              "      <th></th>\n",
              "      <th></th>\n",
              "    </tr>\n",
              "  </thead>\n",
              "  <tbody>\n",
              "    <tr>\n",
              "      <th>1976.0</th>\n",
              "      <td>Montreal</td>\n",
              "      <td>Aquatics</td>\n",
              "      <td>Diving</td>\n",
              "      <td>3m springboard</td>\n",
              "      <td>KÖHLER, Christa</td>\n",
              "      <td>Women</td>\n",
              "      <td>GDR</td>\n",
              "      <td>East Germany</td>\n",
              "      <td>W</td>\n",
              "      <td>Silver</td>\n",
              "      <td>KÖHLER</td>\n",
              "      <td>Christa</td>\n",
              "      <td>None</td>\n",
              "    </tr>\n",
              "    <tr>\n",
              "      <th>1976.0</th>\n",
              "      <td>Montreal</td>\n",
              "      <td>Aquatics</td>\n",
              "      <td>Diving</td>\n",
              "      <td>3m springboard</td>\n",
              "      <td>KOSENKOV, Aleksandr</td>\n",
              "      <td>Men</td>\n",
              "      <td>URS</td>\n",
              "      <td>Soviet Union</td>\n",
              "      <td>M</td>\n",
              "      <td>Bronze</td>\n",
              "      <td>KOSENKOV</td>\n",
              "      <td>Aleksandr</td>\n",
              "      <td>None</td>\n",
              "    </tr>\n",
              "    <tr>\n",
              "      <th>1976.0</th>\n",
              "      <td>Montreal</td>\n",
              "      <td>Aquatics</td>\n",
              "      <td>Diving</td>\n",
              "      <td>3m springboard</td>\n",
              "      <td>BOGGS, Philip George</td>\n",
              "      <td>Men</td>\n",
              "      <td>USA</td>\n",
              "      <td>United States</td>\n",
              "      <td>M</td>\n",
              "      <td>Gold</td>\n",
              "      <td>BOGGS</td>\n",
              "      <td>Philip George</td>\n",
              "      <td>None</td>\n",
              "    </tr>\n",
              "    <tr>\n",
              "      <th>1976.0</th>\n",
              "      <td>Montreal</td>\n",
              "      <td>Aquatics</td>\n",
              "      <td>Diving</td>\n",
              "      <td>3m springboard</td>\n",
              "      <td>CAGNOTTO, Giorgio Franco</td>\n",
              "      <td>Men</td>\n",
              "      <td>ITA</td>\n",
              "      <td>Italy</td>\n",
              "      <td>M</td>\n",
              "      <td>Silver</td>\n",
              "      <td>CAGNOTTO</td>\n",
              "      <td>Giorgio Franco</td>\n",
              "      <td>None</td>\n",
              "    </tr>\n",
              "    <tr>\n",
              "      <th>1976.0</th>\n",
              "      <td>Montreal</td>\n",
              "      <td>Aquatics</td>\n",
              "      <td>Diving</td>\n",
              "      <td>10m platform</td>\n",
              "      <td>WILSON, Deborah Keplar</td>\n",
              "      <td>Women</td>\n",
              "      <td>USA</td>\n",
              "      <td>United States</td>\n",
              "      <td>W</td>\n",
              "      <td>Bronze</td>\n",
              "      <td>WILSON</td>\n",
              "      <td>Deborah Keplar</td>\n",
              "      <td>None</td>\n",
              "    </tr>\n",
              "    <tr>\n",
              "      <th>1976.0</th>\n",
              "      <td>Montreal</td>\n",
              "      <td>Aquatics</td>\n",
              "      <td>Diving</td>\n",
              "      <td>10m platform</td>\n",
              "      <td>LOUGANIS, Gregory</td>\n",
              "      <td>Men</td>\n",
              "      <td>USA</td>\n",
              "      <td>United States</td>\n",
              "      <td>M</td>\n",
              "      <td>Silver</td>\n",
              "      <td>LOUGANIS</td>\n",
              "      <td>Gregory</td>\n",
              "      <td>None</td>\n",
              "    </tr>\n",
              "    <tr>\n",
              "      <th>1976.0</th>\n",
              "      <td>Montreal</td>\n",
              "      <td>Aquatics</td>\n",
              "      <td>Diving</td>\n",
              "      <td>10m platform</td>\n",
              "      <td>VAYTSEKHOVSKAYA, Elena</td>\n",
              "      <td>Women</td>\n",
              "      <td>URS</td>\n",
              "      <td>Soviet Union</td>\n",
              "      <td>W</td>\n",
              "      <td>Gold</td>\n",
              "      <td>VAYTSEKHOVSKAYA</td>\n",
              "      <td>Elena</td>\n",
              "      <td>None</td>\n",
              "    </tr>\n",
              "    <tr>\n",
              "      <th>1976.0</th>\n",
              "      <td>Montreal</td>\n",
              "      <td>Aquatics</td>\n",
              "      <td>Diving</td>\n",
              "      <td>3m springboard</td>\n",
              "      <td>POTTER-MCINGVALE, Cynthia</td>\n",
              "      <td>Women</td>\n",
              "      <td>USA</td>\n",
              "      <td>United States</td>\n",
              "      <td>W</td>\n",
              "      <td>Bronze</td>\n",
              "      <td>POTTER-MCINGVALE</td>\n",
              "      <td>Cynthia</td>\n",
              "      <td>None</td>\n",
              "    </tr>\n",
              "  </tbody>\n",
              "</table>\n",
              "</div>"
            ],
            "text/plain": [
              "            City     Sport  ...             Name Middle_Name\n",
              "Year                        ...                             \n",
              "1976.0  Montreal  Aquatics  ...          Christa        None\n",
              "1976.0  Montreal  Aquatics  ...        Aleksandr        None\n",
              "1976.0  Montreal  Aquatics  ...    Philip George        None\n",
              "1976.0  Montreal  Aquatics  ...   Giorgio Franco        None\n",
              "1976.0  Montreal  Aquatics  ...   Deborah Keplar        None\n",
              "1976.0  Montreal  Aquatics  ...          Gregory        None\n",
              "1976.0  Montreal  Aquatics  ...            Elena        None\n",
              "1976.0  Montreal  Aquatics  ...          Cynthia        None\n",
              "\n",
              "[8 rows x 13 columns]"
            ]
          },
          "metadata": {
            "tags": []
          },
          "execution_count": 12
        }
      ]
    },
    {
      "cell_type": "markdown",
      "metadata": {
        "id": "C-UyCywTYWUq"
      },
      "source": [
        "3 - País que más medallas ganó"
      ]
    },
    {
      "cell_type": "code",
      "metadata": {
        "colab": {
          "base_uri": "https://localhost:8080/"
        },
        "id": "5Xg0njY6Ydik",
        "outputId": "0879907e-0a69-4711-8857-591461ebdc81"
      },
      "source": [
        "import numpy as np\n",
        "import pandas as pd\n",
        "\n",
        "olympics_df = pd.read_csv(\n",
        "    \"https://github.com/mdcodigo/coder_ds/raw/main/data-sources/Summer-Olympic-medals-1976-to-2008.csv\",\n",
        "    index_col=\"Country_Code\",\n",
        "    encoding='latin1') #Sin este parámetro daba error de parseo\n",
        "\n",
        "olympics_df.groupby([\"Country_Code\"], as_index=True).count().sort_values(by=[\"Medal\"], ascending=False)[\"Medal\"].head(1)"
      ],
      "execution_count": 55,
      "outputs": [
        {
          "output_type": "execute_result",
          "data": {
            "text/plain": [
              "Country_Code\n",
              "USA    1992\n",
              "Name: Medal, dtype: int64"
            ]
          },
          "metadata": {
            "tags": []
          },
          "execution_count": 55
        }
      ]
    },
    {
      "cell_type": "markdown",
      "metadata": {
        "id": "2hTr-EnpeiED"
      },
      "source": [
        "4 - Tabla de Medallas"
      ]
    },
    {
      "cell_type": "code",
      "metadata": {
        "colab": {
          "base_uri": "https://localhost:8080/"
        },
        "id": "efgdZkn5euJO",
        "outputId": "9c62f67a-dc4a-4f6d-e6bd-8caacdc4268b"
      },
      "source": [
        "import numpy as np\n",
        "import pandas as pd\n",
        "\n",
        "olympics_df = pd.read_csv(\n",
        "    \"https://github.com/mdcodigo/coder_ds/raw/main/data-sources/Summer-Olympic-medals-1976-to-2008.csv\",\n",
        "    encoding='latin1') #Sin este parámetro daba error de parseo\n",
        "\n",
        "#Me pareció injusto que sea solo para hombres, asi que lo hago para ambos\n",
        "olympics_df.groupby([\"Year\",\"Gender\"], as_index=True).count()[\"Medal\"]"
      ],
      "execution_count": 65,
      "outputs": [
        {
          "output_type": "execute_result",
          "data": {
            "text/plain": [
              "Year    Gender\n",
              "1976.0  Men        924\n",
              "        Women      381\n",
              "1980.0  Men        958\n",
              "        Women      429\n",
              "1984.0  Men        973\n",
              "        Women      486\n",
              "1988.0  Men       1011\n",
              "        Women      535\n",
              "1992.0  Men       1105\n",
              "        Women      600\n",
              "1996.0  Men       1082\n",
              "        Women      777\n",
              "2000.0  Men       1126\n",
              "        Women      889\n",
              "2004.0  Men       1099\n",
              "        Women      899\n",
              "2008.0  Men       1110\n",
              "        Women      932\n",
              "Name: Medal, dtype: int64"
            ]
          },
          "metadata": {
            "tags": []
          },
          "execution_count": 65
        }
      ]
    }
  ]
}