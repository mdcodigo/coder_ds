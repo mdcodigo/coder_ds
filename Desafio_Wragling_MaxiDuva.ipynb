{
  "nbformat": 4,
  "nbformat_minor": 0,
  "metadata": {
    "colab": {
      "name": "Desafio_Wragling_MaxiDuva.ipynb",
      "provenance": [],
      "collapsed_sections": [],
      "authorship_tag": "ABX9TyOmFLupD9RhxiS3iIalt/kb",
      "include_colab_link": true
    },
    "kernelspec": {
      "name": "python3",
      "display_name": "Python 3"
    },
    "language_info": {
      "name": "python"
    }
  },
  "cells": [
    {
      "cell_type": "markdown",
      "metadata": {
        "id": "view-in-github",
        "colab_type": "text"
      },
      "source": [
        "<a href=\"https://colab.research.google.com/github/mdcodigo/coder_ds/blob/main/Desafio_Wragling_MaxiDuva.ipynb\" target=\"_parent\"><img src=\"https://colab.research.google.com/assets/colab-badge.svg\" alt=\"Open In Colab\"/></a>"
      ]
    },
    {
      "cell_type": "markdown",
      "metadata": {
        "id": "lwrpoxmfW2Qk"
      },
      "source": [
        "Leo los dataset p, w y los fusiono"
      ]
    },
    {
      "cell_type": "code",
      "metadata": {
        "colab": {
          "base_uri": "https://localhost:8080/"
        },
        "id": "KDBEXMXAWwwo",
        "outputId": "033e6f90-968e-4ae2-e45b-a2b98372b338"
      },
      "source": [
        "import pandas as pd\n",
        "import numpy as np\n",
        "\n",
        "#Leo el dataset p\n",
        "df_p = pd.read_csv(\"https://github.com/mdcodigo/coder_ds/raw/main/data-sources/p_data.csv\", delimiter=\";\", index_col=\"ID\")\n",
        "\n",
        "print(df_p.columns)\n",
        "\n",
        "#Leo el dataset w\n",
        "df_w = pd.read_csv(\"https://github.com/mdcodigo/coder_ds/raw/main/data-sources/w_data.csv\", delimiter=\";\", index_col=\"ID\")\n",
        "\n",
        "print(df_w.columns)\n",
        "#df_pw = df_p\n",
        "#df_pw.join(df_w, lsuffix=\"_left\", rsuffix=\"_right\")\n",
        "\n",
        "df_pw = pd.merge(df_p,df_w, on=[\"ID\"])\n",
        "\n",
        "print(df_pw.columns)\n",
        "\n",
        "#print(\"Ejecricio Nr2\")\n",
        "#print(pd.read_sql_query(\"SELECT sea.* FROM NBA_season1718_salary sal INNER JOIN Seasons_Stats sea ON sal.X1 = sea.X1 WHERE sal.season17_18 > 10000000\",con).head())\n",
        "\n",
        "#print(\"Ejecricio Nr3\")\n",
        "#pd.read_sql_query(\"SELECT sea.Player, AVG(sea.PTS), AVG(sea.AST), AVG(sea.PF) FROM NBA_season1718_salary sal INNER JOIN Seasons_Stats sea ON sal.X1 = sea.X1 WHERE sal.season17_18 > 10000000 GROUP BY sea.Player\",con)\n"
      ],
      "execution_count": 28,
      "outputs": [
        {
          "output_type": "stream",
          "text": [
            "Index(['Age', 'Sex', 'Race', 'Country', 'Education', 'Education-Num',\n",
            "       'Marital Status', 'Relationship'],\n",
            "      dtype='object')\n",
            "Index(['Workclass', 'fnlwgt', 'Capital Gain', 'Capital Loss', 'Hours per week',\n",
            "       'Target'],\n",
            "      dtype='object')\n",
            "Index(['Age', 'Sex', 'Race', 'Country', 'Education', 'Education-Num',\n",
            "       'Marital Status', 'Relationship', 'Workclass', 'fnlwgt', 'Capital Gain',\n",
            "       'Capital Loss', 'Hours per week', 'Target'],\n",
            "      dtype='object')\n"
          ],
          "name": "stdout"
        }
      ]
    },
    {
      "cell_type": "markdown",
      "metadata": {
        "id": "MMDzJwP4u33f"
      },
      "source": [
        "Ejercicio #1"
      ]
    },
    {
      "cell_type": "code",
      "metadata": {
        "colab": {
          "base_uri": "https://localhost:8080/"
        },
        "id": "25sNx7Ywu3Ad",
        "outputId": "91fbdb88-2f9b-48bf-f26b-155c40e2970a"
      },
      "source": [
        "res1 = df_pw[\"Target\"].isnull()\n",
        "print(\"IDs que estan en P pero no es W:\")\n",
        "print(res1[res1 == True])"
      ],
      "execution_count": 63,
      "outputs": [
        {
          "output_type": "stream",
          "text": [
            "IDs que estan en P pero no es W:\n",
            "ID\n",
            "37078    True\n",
            "Name: Target, dtype: bool\n"
          ],
          "name": "stdout"
        }
      ]
    }
  ]
}